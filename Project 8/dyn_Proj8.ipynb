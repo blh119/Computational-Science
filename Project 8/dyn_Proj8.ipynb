{
 "cells": [
  {
   "cell_type": "markdown",
   "metadata": {
    "collapsed": false
   },
   "source": [
    "This project had the objective of find out if the subcollection of numbers [5,8,2,3,7] could be summed up to 16. We solved this with a dynamic programing method. In which we take a larger problem and break it down into numerious sub problems. After that sub problem is solved we should arrive at our answer.<br/> \n",
    "\n",
    "In this case we used the 0-1 Knapsack Problem as a model for this problem. A problem in which you have a knapsack and you are tasked with maximiziing profit given a certain number of items and a weight capacity for the bag.<br/> \n",
    "\n",
    "This algorithm worked first by creating a n x m matrix for the number of items and the value that we are trying to get, in this case 16. It then will populate the matrix first adding the first item in the matrix to the first row and the column of value of the first item. It will them get value for the rest of the rows by first seeing if the current value in the list is greater than number given by the row. If it is then take the value from the row above it. If this is not the case then it will take the maximum between what is in the row right above it and value that we are currently working with plus the number in place of the item that we added right before the current item"
   ]
  },
  {
   "cell_type": "code",
   "execution_count": 35,
   "metadata": {
    "collapsed": false
   },
   "outputs": [
   ],
   "source": [
    "def dyn_Proj8(S,num):\n",
    "    L = [[0 for j in range(num +1)] for i in range(len(S))]\n",
    "    for i in range(S[0],num + 1):\n",
    "        L[0][i] = S[0]\n",
    "    for i in range(1,len(S)):\n",
    "        for j in range(1,num+1):\n",
    "            if S[i] > j:\n",
    "                L[i][j] = L[i-1][j]\n",
    "            else:\n",
    "                L[i][j] = max(L[i-1][j], S[i] + L[i-1][j-S[i]])\n",
    "    for row in L:\n",
    "        print(row)"
   ]
  },
  {
   "cell_type": "code",
   "execution_count": 42,
   "metadata": {
    "collapsed": false
   },
   "outputs": [
    {
     "name": "stdout",
     "output_type": "stream",
     "text": [
      "[0, 0, 0, 0, 0, 5, 5, 5, 5, 5, 5, 5, 5, 5, 5, 5, 5]\n",
      "[0, 0, 0, 0, 0, 5, 5, 5, 8, 8, 8, 8, 8, 13, 13, 13, 13]\n",
      "[0, 0, 2, 2, 2, 5, 5, 7, 8, 8, 10, 10, 10, 13, 13, 15, 15]\n",
      "[0, 0, 2, 3, 3, 5, 5, 7, 8, 8, 10, 11, 11, 13, 13, 15, 16]\n",
      "[0, 0, 2, 3, 3, 5, 5, 7, 8, 9, 10, 11, 12, 13, 14, 15, 16]\n"
     ]
    }
   ],
   "source": [
    "dyn_Proj8([5,8,2,3,7],16)"
   ]
  },
  {
   "cell_type": "markdown",
   "metadata": {
    "collapsed": false
   },
   "source": [
    "We see that 16 is a part of this array"
   ]
  },
  {
   "cell_type": "code",
   "execution_count": 0,
   "metadata": {
    "collapsed": false
   },
   "outputs": [
   ],
   "source": [
   ]
  }
 ],
 "metadata": {
  "kernelspec": {
   "display_name": "Python 3 (system-wide)",
   "language": "python",
   "metadata": {
    "cocalc": {
     "description": "Python 3 programming language",
     "priority": 100,
     "url": "https://www.python.org/"
    }
   },
   "name": "python3"
  },
  "language_info": {
   "codemirror_mode": {
    "name": "ipython",
    "version": 3
   },
   "file_extension": ".py",
   "mimetype": "text/x-python",
   "name": "python",
   "nbconvert_exporter": "python",
   "pygments_lexer": "ipython3",
   "version": "3.6.8"
  }
 },
 "nbformat": 4,
 "nbformat_minor": 0
}