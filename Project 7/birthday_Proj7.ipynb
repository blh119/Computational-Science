{
 "cells": [
  {
   "cell_type": "markdown",
   "metadata": {
    "collapsed": false
   },
   "source": [
    "This program is a simulation of the birthday problem, in which people go around room and see if two people have the same birthday. This problem was solved with two functions. First the purpose of the count function is supposed to check if we have at least one pair of people.<br/>\n",
    "\n",
    "The function gets a random number from 0 to 364 to represent the number of days in a year. It then will set  1  as a placeholder to represent peoples birthdays.It will then loop through that array and count the number of ones. If the sum of the array does not add up to the number of people, then you know you have at least one pair.<br/>\n",
    "\n",
    "The second function is to get the percentage that you will get one pair. It starts off with a list comprehension that runs the count function 10,000 times. It then will check that list of 10,000 for pairs by seeing if the numbers from the count function are equal to your imput. If it is less you know you have a pair. It will count that an divid it by 10,000 to get a percentage for the chance of a pair. "
   ]
  },
  {
   "cell_type": "code",
   "execution_count": 272,
   "metadata": {
    "collapsed": false
   },
   "outputs": [
   ],
   "source": [
    "import numpy as np"
   ]
  },
  {
   "cell_type": "code",
   "execution_count": 273,
   "metadata": {
    "collapsed": false
   },
   "outputs": [
   ],
   "source": [
    "def count(n):\n",
    "    matches = 0\n",
    "    a = np.zeros(365)\n",
    "    for i in range(n):\n",
    "        b = np.random.randint(low = 0, high = 365, size = 1)\n",
    "        a[b] = 1\n",
    "    for j in range(365):\n",
    "        if a[j] == 1:\n",
    "            matches = matches + 1\n",
    "    return matches"
   ]
  },
  {
   "cell_type": "code",
   "execution_count": 274,
   "metadata": {
    "collapsed": false
   },
   "outputs": [
    {
     "data": {
      "text/plain": [
       "67"
      ]
     },
     "execution_count": 274,
     "metadata": {
     },
     "output_type": "execute_result"
    }
   ],
   "source": [
    "count(73)"
   ]
  },
  {
   "cell_type": "code",
   "execution_count": 275,
   "metadata": {
    "collapsed": false
   },
   "outputs": [
   ],
   "source": [
    "def birthday_Proj7(n):\n",
    "    a = [count(n) for i in range(10000)]\n",
    "    count1 = 0\n",
    "    for i in range(10000):\n",
    "        if not a[i] == n:\n",
    "            count1 = count1 + 1\n",
    "    return count1/10000"
   ]
  },
  {
   "cell_type": "code",
   "execution_count": 276,
   "metadata": {
    "collapsed": false
   },
   "outputs": [
   ],
   "source": [
    "birthday_Proj7(73)"
   ]
  },
  {
   "cell_type": "code",
   "execution_count": 270,
   "metadata": {
    "collapsed": false
   },
   "outputs": [
    {
     "data": {
      "text/plain": [
       "0.5143"
      ]
     },
     "execution_count": 270,
     "metadata": {
     },
     "output_type": "execute_result"
    }
   ],
   "source": [
    "birthday_Proj7(23)"
   ]
  },
  {
   "cell_type": "code",
   "execution_count": 271,
   "metadata": {
    "collapsed": false
   },
   "outputs": [
    {
     "data": {
      "text/plain": [
       "0.1407"
      ]
     },
     "execution_count": 271,
     "metadata": {
     },
     "output_type": "execute_result"
    }
   ],
   "source": [
    "birthday_Proj7(11)"
   ]
  },
  {
   "cell_type": "code",
   "execution_count": 0,
   "metadata": {
    "collapsed": false
   },
   "outputs": [
   ],
   "source": [
   ]
  }
 ],
 "metadata": {
  "kernelspec": {
   "display_name": "Python 3 (system-wide)",
   "language": "python",
   "metadata": {
    "cocalc": {
     "description": "Python 3 programming language",
     "priority": 100,
     "url": "https://www.python.org/"
    }
   },
   "name": "python3"
  },
  "language_info": {
   "codemirror_mode": {
    "name": "ipython",
    "version": 3
   },
   "file_extension": ".py",
   "mimetype": "text/x-python",
   "name": "python",
   "nbconvert_exporter": "python",
   "pygments_lexer": "ipython3",
   "version": "3.6.8"
  }
 },
 "nbformat": 4,
 "nbformat_minor": 0
}