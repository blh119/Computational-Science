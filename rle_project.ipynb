{
 "cells": [
  {
   "cell_type": "markdown",
   "metadata": {
    "collapsed": false
   },
   "source": [
    "#Project 2 RLE\n",
    "\n",
    "This code takes a string and counts how many characters occur in a row and then displays it.\n",
    "\n",
    "It works first by setting the count for the letters at one because each one that occurs at least once has to be counted. \n",
    "It then will check to see if the letter is equal to the letter next to it, if so the count increases by one. Otherwise, it will display the letter and the count.\n",
    "\n",
    "The loop has to end before last letter sequence because it will have nothing to compare to.\n",
    "\n",
    "The last letter is satisfied with another loop. I reversed the order of the string and then displayed the count and the letter of the first letter, which is the last letter of the original sequence. "
   ]
  },
  {
   "cell_type": "code",
   "execution_count": 1,
   "metadata": {
    "collapsed": false
   },
   "outputs": [
   ],
   "source": [
    "def rle(s):\n",
    "    if len(s) < 1 and len(s) > 50:\n",
    "        print(\"You have to pass a string more than 1 and less that 50\")\n",
    "    else:\n",
    "        count = 1\n",
    "        i = 0\n",
    "        while i < len(s) - 1:\n",
    "            if s[i] == s[i + 1]:\n",
    "                count = count + 1\n",
    "            else:\n",
    "                print(s[i] + str(count))\n",
    "                count = 1\n",
    "            i = i + 1\n",
    "        last_letter = s[::-1]\n",
    "        count = 1\n",
    "        j = 0\n",
    "        while j < len(last_letter):\n",
    "            if last_letter[j] != last_letter[j + 1]:\n",
    "                print(last_letter[j] + str(count))\n",
    "                return \"bye\"\n",
    "            else:\n",
    "                count = count + 1\n",
    "            j = j + 1\n",
    "                "
   ]
  },
  {
   "cell_type": "code",
   "execution_count": 2,
   "metadata": {
    "collapsed": false
   },
   "outputs": [
    {
     "name": "stdout",
     "output_type": "stream",
     "text": [
      "a4\n",
      "b2\n",
      "a2\n",
      "b3\n",
      "a1\n",
      "b4\n",
      "a11\n",
      "b2\n"
     ]
    },
    {
     "data": {
      "text/plain": [
       "'bye'"
      ]
     },
     "execution_count": 2,
     "metadata": {
     },
     "output_type": "execute_result"
    }
   ],
   "source": [
    "rle(\"aaaabbaabbbabbbbaaaaaaaaaaabb\")"
   ]
  },
  {
   "cell_type": "code",
   "execution_count": 3,
   "metadata": {
    "collapsed": false
   },
   "outputs": [
    {
     "name": "stdout",
     "output_type": "stream",
     "text": [
      "a12\n",
      "b26\n"
     ]
    },
    {
     "data": {
      "text/plain": [
       "'bye'"
      ]
     },
     "execution_count": 3,
     "metadata": {
     },
     "output_type": "execute_result"
    }
   ],
   "source": [
    "rle(\"aaaaaaaaaaaabbbbbbbbbbbbbbbbbbbbbbbbbb\")"
   ]
  },
  {
   "cell_type": "code",
   "execution_count": 4,
   "metadata": {
    "collapsed": false
   },
   "outputs": [
    {
     "name": "stdout",
     "output_type": "stream",
     "text": [
      "k1\n",
      "n1\n",
      "w1\n",
      "n1\n",
      "f1\n",
      "o1\n",
      "w1\n",
      "f1\n",
      "n1\n",
      "r1\n",
      "w1\n",
      "o1\n",
      "i1\n",
      "f1\n",
      "n1\n",
      "i5\n",
      "r1\n",
      "o1\n",
      "w1\n",
      "o1\n",
      "e1\n",
      "w1\n"
     ]
    },
    {
     "data": {
      "text/plain": [
       "'bye'"
      ]
     },
     "execution_count": 4,
     "metadata": {
     },
     "output_type": "execute_result"
    }
   ],
   "source": [
    "rle(\"knwnfowfnrwoifniiiiirowoew\")"
   ]
  },
  {
   "cell_type": "code",
   "execution_count": 5,
   "metadata": {
    "collapsed": false
   },
   "outputs": [
    {
     "name": "stdout",
     "output_type": "stream",
     "text": [
      "u11\n",
      "e1\n",
      "w14\n",
      "f4\n"
     ]
    },
    {
     "data": {
      "text/plain": [
       "'bye'"
      ]
     },
     "execution_count": 5,
     "metadata": {
     },
     "output_type": "execute_result"
    }
   ],
   "source": [
    "rle(\"uuuuuuuuuuuewwwwwwwwwwwwwwffff\")"
   ]
  }
 ],
 "metadata": {
  "kernelspec": {
   "display_name": "Python 3 (system-wide)",
   "language": "python",
   "metadata": {
    "cocalc": {
     "description": "Python 3 programming language",
     "priority": 100,
     "url": "https://www.python.org/"
    }
   },
   "name": "python3"
  },
  "language_info": {
   "codemirror_mode": {
    "name": "ipython",
    "version": 3
   },
   "file_extension": ".py",
   "mimetype": "text/x-python",
   "name": "python",
   "nbconvert_exporter": "python",
   "pygments_lexer": "ipython3",
   "version": "3.6.8"
  }
 },
 "nbformat": 4,
 "nbformat_minor": 0
}