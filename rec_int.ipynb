{
 "cells": [
  {
   "cell_type": "raw",
   "metadata": {
    "collapsed": false
   },
   "source": [
    " The intention of this project is to write a function that recieves numbers as text and convert them into integer numbers. Usually, I would have done this with a regular for loop, but this was done recursively.\n",
    " \n",
    " There were a couple of things that I needed to take into account with this project. First, where the base casees. There had to be two different bases cases. The first was for the empty string and the second was to end the recursive algorithm. Two different functions where needed for this because, both cases were tiggered by the same condition. \n",
    " \n",
    " We had to make sure that we were only getting numbers between [0,9] and the string was between 1 and 10 characters. If those conditions are passed the str_to_int function is called, this is the function that is doing the recursive work.\n",
    " \n",
    " The function counts how many digits are in the number and times the place of the number 10^(count - 1). So if I call rec_int('789'). The function will actually return 7 * 10^(3 - 1) + 8 * 10^(2 - 1) + 9 * 10(1 -1) = 700 + 80 + 9 = 789"
   ]
  },
  {
   "cell_type": "code",
   "execution_count": 2,
   "metadata": {
    "collapsed": false
   },
   "outputs": [
   ],
   "source": [
    "def rec_int(s):\n",
    "    if s == \"\": \n",
    "        return \"Empty String\"\n",
    "    elif len(s) > 10:\n",
    "        return \"This function only accepts strings between 1 and 10 characters\"\n",
    "    elif s.isdigit() == False: #To make sure we only get digits\n",
    "        return \"This function only accepts digits: [0:9]\"\n",
    "    else:\n",
    "        return str_to_int(s)"
   ]
  },
  {
   "cell_type": "code",
   "execution_count": 3,
   "metadata": {
    "collapsed": false
   },
   "outputs": [
   ],
   "source": [
    "def str_to_int(g):\n",
    "    if g == \"\": #Base Case\n",
    "        return 0\n",
    "    count = 0\n",
    "    for i in g:\n",
    "        count = count + 1\n",
    "    return int(g[0]) * 10**(count - 1) + str_to_int(g[1:]) #Recursively adding string value *10**len(s - 1)"
   ]
  },
  {
   "cell_type": "code",
   "execution_count": 4,
   "metadata": {
    "collapsed": false
   },
   "outputs": [
    {
     "data": {
      "text/plain": [
       "'This function only accepts digits: [0:9]'"
      ]
     },
     "execution_count": 4,
     "metadata": {
     },
     "output_type": "execute_result"
    }
   ],
   "source": [
    "rec_int(\"56657yy\")"
   ]
  },
  {
   "cell_type": "code",
   "execution_count": 5,
   "metadata": {
    "collapsed": false
   },
   "outputs": [
    {
     "data": {
      "text/plain": [
       "'This function only accepts strings between 1 and 10 characters'"
      ]
     },
     "execution_count": 5,
     "metadata": {
     },
     "output_type": "execute_result"
    }
   ],
   "source": [
    "rec_int(\"34534099909890\")"
   ]
  },
  {
   "cell_type": "code",
   "execution_count": 6,
   "metadata": {
    "collapsed": false
   },
   "outputs": [
    {
     "data": {
      "text/plain": [
       "'Empty String'"
      ]
     },
     "execution_count": 6,
     "metadata": {
     },
     "output_type": "execute_result"
    }
   ],
   "source": [
    "rec_int(\"\")"
   ]
  },
  {
   "cell_type": "code",
   "execution_count": 7,
   "metadata": {
    "collapsed": false
   },
   "outputs": [
    {
     "data": {
      "text/plain": [
       "16"
      ]
     },
     "execution_count": 7,
     "metadata": {
     },
     "output_type": "execute_result"
    }
   ],
   "source": [
    "b = 4 * rec_int(\"4\")\n",
    "b"
   ]
  },
  {
   "cell_type": "code",
   "execution_count": 8,
   "metadata": {
    "collapsed": false
   },
   "outputs": [
    {
     "data": {
      "text/plain": [
       "587565"
      ]
     },
     "execution_count": 8,
     "metadata": {
     },
     "output_type": "execute_result"
    }
   ],
   "source": [
    "rec_int(\"587565\")"
   ]
  },
  {
   "cell_type": "code",
   "execution_count": 9,
   "metadata": {
    "collapsed": false
   },
   "outputs": [
    {
     "data": {
      "text/plain": [
       "4"
      ]
     },
     "execution_count": 9,
     "metadata": {
     },
     "output_type": "execute_result"
    }
   ],
   "source": [
    "rec_int(\"4\")"
   ]
  },
  {
   "cell_type": "code",
   "execution_count": 10,
   "metadata": {
    "collapsed": false
   },
   "outputs": [
    {
     "data": {
      "text/plain": [
       "789"
      ]
     },
     "execution_count": 10,
     "metadata": {
     },
     "output_type": "execute_result"
    }
   ],
   "source": [
    "rec_int(\"789\")"
   ]
  },
  {
   "cell_type": "code",
   "execution_count": 0,
   "metadata": {
    "collapsed": false
   },
   "outputs": [
   ],
   "source": [
   ]
  }
 ],
 "metadata": {
  "kernelspec": {
   "display_name": "Python 3 (system-wide)",
   "language": "python",
   "metadata": {
    "cocalc": {
     "description": "Python 3 programming language",
     "priority": 100,
     "url": "https://www.python.org/"
    }
   },
   "name": "python3"
  },
  "language_info": {
   "codemirror_mode": {
    "name": "ipython",
    "version": 3
   },
   "file_extension": ".py",
   "mimetype": "text/x-python",
   "name": "python",
   "nbconvert_exporter": "python",
   "pygments_lexer": "ipython3",
   "version": "3.6.8"
  }
 },
 "nbformat": 4,
 "nbformat_minor": 0
}