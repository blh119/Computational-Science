{
 "cells": [
  {
   "cell_type": "raw",
   "metadata": {
    "collapsed": false
   },
   "source": [
    "Problem 4.\n",
    "\n",
    "This problem was to see what are the advantages and disadvantages to a fixed rate mortgage to an adjustable rate mortgage. For this problem, I tried to solve it by calculating each payment and adding them up over a 30 year period. \n",
    "\n",
    "The biggest difference between a fixed rate and adjustable is that the rate of a fixed rate stays the same throughout the diration of the loan. The adjustable rate stays fixed for a certain amount of time. In this case 10 years. The rate then increases over a period of time until the rate reaches a cap, in this case 10 percent. It then stays at that cap for the rest of the loan.\n",
    "\n",
    "If you are strictly concerned about the money value of the mortgage the fixed rate is going to be for you, as the rate increase usually means that you are going to be paying more in the long run. Also, it will be for you if this a house that you plan on keeping or living, as you will pay less usually and there will be more consistancy with the monthly payment.\n",
    "\n",
    "If you plan on using the house as a short term investment, the adjustable rate may be for you. You should plan on selling the house before the rate increase kicks in. If you are unable to sell the house this quickly becomes a bad investment, so it is important that you only do this in a good housing market, where the homes are desirable and propety value is generally going up. Maybe you might want this loan if you can count on making more in the future, but that is really risky. "
   ]
  },
  {
   "cell_type": "code",
   "execution_count": 52,
   "metadata": {
    "collapsed": false
   },
   "outputs": [
   ],
   "source": [
    "def fixed_rate_10(p,r,n,t):\n",
    "    return (p*((r/n)*(1 + r/n)**(t*n))/((1 + r/n)**(t*n)-1))*(12*30)\n",
    "    "
   ]
  },
  {
   "cell_type": "code",
   "execution_count": 53,
   "metadata": {
    "collapsed": false
   },
   "outputs": [
    {
     "data": {
      "text/plain": [
       "377759.05512576073"
      ]
     },
     "execution_count": 53,
     "metadata": {
     },
     "output_type": "execute_result"
    }
   ],
   "source": [
    " fixed_rate_30(200000,.048,12,30)\n"
   ]
  },
  {
   "cell_type": "code",
   "execution_count": 54,
   "metadata": {
    "collapsed": false
   },
   "outputs": [
   ],
   "source": [
    "def adjustable_rate(p,r,n,t):\n",
    "    total_loan = 0 \n",
    "    for i in range(1,11): # first ten years\n",
    "        total_loan = total_loan + (p*((r/n)*(1 + r/n)**(t*n))/((1 + r/n)**(t*n)-1))*12 #times twelve for the payments in a year\n",
    "        print(\"Rate: \" + str(r) + \"    \" + \"Total Amount: \" + str(total_loan))\n",
    "    adjustable_rate_increase(total_loan,p,r,n,t)"
   ]
  },
  {
   "cell_type": "code",
   "execution_count": 55,
   "metadata": {
    "collapsed": false
   },
   "outputs": [
   ],
   "source": [
    "def adjustable_rate_increase(total_loan,p,r,n,t):\n",
    "    t = t -10\n",
    "    for i in range(1,7): # 6 years of a rate increase\n",
    "        r = r + .01 # to account for the increase in the rate\n",
    "        r = round(r,2)\n",
    "        total_loan = total_loan + (p*((r/n)*(1 + r/n)**(t*n))/((1 + r/n)**(t*n)-1))*12 #times twelve for the payments in a year\n",
    "        t = t - 1 #to account for the change in the years for the calcalation\n",
    "        print(\"Rate: \" + str(r) + \"    \" + \"Total Amount: \" + str(total_loan))\n",
    "    adjustable_last_years(total_loan,p,r,n,t)  \n",
    "        "
   ]
  },
  {
   "cell_type": "code",
   "execution_count": 64,
   "metadata": {
    "collapsed": false
   },
   "outputs": [
   ],
   "source": [
    "def adjustable_last_years(total_loan,p,r,n,t):\n",
    "    r = .10\n",
    "    for i in range(1,15):#last 14 years\n",
    "        total_loan = total_loan + (p*((r/n)*(1 + r/n)**(t*n))/((1 + r/n)**(t*n)-1))*12 #times twelve for the payments in a year \n",
    "        print(\"Rate: \" + str(r) + \"     \" + \"Total Amount: \" + str(total_loan))\n",
    "    \n",
    "    "
   ]
  },
  {
   "cell_type": "code",
   "execution_count": 65,
   "metadata": {
    "collapsed": false
   },
   "outputs": [
    {
     "name": "stdout",
     "output_type": "stream",
     "text": [
      "Rate: 0.03    Total Amount: 10118.496809506942\n",
      "Rate: 0.03    Total Amount: 20236.993619013883\n",
      "Rate: 0.03    Total Amount: 30355.490428520825\n",
      "Rate: 0.03    Total Amount: 40473.98723802777\n",
      "Rate: 0.03    Total Amount: 50592.48404753471\n",
      "Rate: 0.03    Total Amount: 60710.98085704165\n",
      "Rate: 0.03    Total Amount: 70829.4776665486\n",
      "Rate: 0.03    Total Amount: 80947.97447605553\n",
      "Rate: 0.03    Total Amount: 91066.47128556247\n",
      "Rate: 0.03    Total Amount: 101184.9680950694\n",
      "Rate: 0.04    Total Amount: 115728.49599825522\n",
      "Rate: 0.05    Total Amount: 132055.1620910954\n",
      "Rate: 0.060000000000000005    Total Amount: 150251.0578127592\n",
      "Rate: 0.07    Total Amount: 170402.91348380156\n",
      "Rate: 0.08    Total Amount: 192601.11413052876\n",
      "Rate: 0.09    Total Amount: 216943.5121504115\n",
      "Rate: 0.1     Total Amount: 243540.37664725818\n",
      "Rate: 0.1     Total Amount: 270137.24114410486\n",
      "Rate: 0.1     Total Amount: 296734.10564095154\n",
      "Rate: 0.1     Total Amount: 323330.9701377982\n",
      "Rate: 0.1     Total Amount: 349927.8346346449\n",
      "Rate: 0.1     Total Amount: 376524.6991314916\n",
      "Rate: 0.1     Total Amount: 403121.5636283383\n",
      "Rate: 0.1     Total Amount: 429718.42812518496\n",
      "Rate: 0.1     Total Amount: 456315.29262203164\n",
      "Rate: 0.1     Total Amount: 482912.1571188783\n",
      "Rate: 0.1     Total Amount: 509509.021615725\n",
      "Rate: 0.1     Total Amount: 536105.8861125717\n",
      "Rate: 0.1     Total Amount: 562702.7506094184\n",
      "Rate: 0.1     Total Amount: 589299.6151062651\n"
     ]
    }
   ],
   "source": [
    "adjustable_rate(200000,.03,12,30)"
   ]
  },
  {
   "cell_type": "code",
   "execution_count": 0,
   "metadata": {
    "collapsed": false
   },
   "outputs": [
   ],
   "source": [
   ]
  }
 ],
 "metadata": {
  "kernelspec": {
   "display_name": "Python 3 (system-wide)",
   "language": "python",
   "metadata": {
    "cocalc": {
     "description": "Python 3 programming language",
     "priority": 100,
     "url": "https://www.python.org/"
    }
   },
   "name": "python3"
  },
  "language_info": {
   "codemirror_mode": {
    "name": "ipython",
    "version": 3
   },
   "file_extension": ".py",
   "mimetype": "text/x-python",
   "name": "python",
   "nbconvert_exporter": "python",
   "pygments_lexer": "ipython3",
   "version": "3.6.8"
  }
 },
 "nbformat": 4,
 "nbformat_minor": 0
}