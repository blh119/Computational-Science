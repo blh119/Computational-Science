{
 "cells": [
  {
   "cell_type": "markdown",
   "metadata": {
    "collapsed": false
   },
   "source": [
    "#Number of real roots of a quadratic formula\n",
    "\n",
    "In this activity, we will compute the number of distinct real roots of the quadratic polynomial with integer coefficients. A quadratic polynomial of the form $f(x) = ax^2 + bx + c$.\n",
    "\n",
    "The number of real roots of $f(x)$ can be determined by computing the sign of the quantity $b^2 - 4ac$. When $b^2 - 4ac > 0$, the polynomial has two real roots. When $b^2 - 4ac < 0$, the polynomial has zero real roots, but two complex roots."
   ]
  },
  {
   "cell_type": "code",
   "execution_count": 22,
   "metadata": {
    "collapsed": false
   },
   "outputs": [
   ],
   "source": [
    "import numpy as np\n",
    "import pandas as pd"
   ]
  },
  {
   "cell_type": "code",
   "execution_count": 2,
   "metadata": {
    "collapsed": false
   },
   "outputs": [
   ],
   "source": [
    "def realrootnum(a, b, c):\n",
    "    if (b**2 - 4*a*c) < 0:\n",
    "        print(\"You have complex roots cannot be done by this program\")\n",
    "    elif a == 0:\n",
    "        print(\"A is equal to zero...Divide by zero problem\")\n",
    "    else:  \n",
    "        x1 = (-b + ((b**2 - (4*a*c))**(1/2)))/(2*a)\n",
    "        x2 = (-b - ((b**2 - (4*a*c))**(1/2)))/(2*a)\n",
    "        print(\"Your real roots are: \" + str(x1) + \", \" + str(x2))\n",
    "      "
   ]
  },
  {
   "cell_type": "code",
   "execution_count": 3,
   "metadata": {
    "collapsed": false
   },
   "outputs": [
   ],
   "source": [
    "def real_roots_num(a,b,c):\n",
    "    if b**2 - 4*a*c < 0:\n",
    "        num = 0,l\n",
    "    elif b**2 - 4*a*c > 0:\n",
    "        num = 2\n",
    "    else:\n",
    "        num =1\n",
    "    return num"
   ]
  },
  {
   "cell_type": "code",
   "execution_count": 6,
   "metadata": {
    "collapsed": false
   },
   "outputs": [
    {
     "data": {
      "text/plain": [
       "2"
      ]
     },
     "execution_count": 6,
     "metadata": {
     },
     "output_type": "execute_result"
    }
   ],
   "source": [
    "real_roots_num(1,1,0)"
   ]
  },
  {
   "cell_type": "code",
   "execution_count": 4,
   "metadata": {
    "collapsed": false
   },
   "outputs": [
    {
     "name": "stdout",
     "output_type": "stream",
     "text": [
      "Your real roots are: 0.0, -1.0\n"
     ]
    }
   ],
   "source": [
    "realrootnum(1,1,0)"
   ]
  },
  {
   "cell_type": "markdown",
   "metadata": {
    "collapsed": false
   },
   "source": [
    "### real_roots_num(1,1,0)"
   ]
  }
 ],
 "metadata": {
  "kernelspec": {
   "display_name": "Python 3 (system-wide)",
   "language": "python",
   "metadata": {
    "cocalc": {
     "description": "Python 3 programming language",
     "priority": 100,
     "url": "https://www.python.org/"
    }
   },
   "name": "python3"
  },
  "language_info": {
   "codemirror_mode": {
    "name": "ipython",
    "version": 3
   },
   "file_extension": ".py",
   "mimetype": "text/x-python",
   "name": "python",
   "nbconvert_exporter": "python",
   "pygments_lexer": "ipython3",
   "version": "3.6.8"
  }
 },
 "nbformat": 4,
 "nbformat_minor": 0
}