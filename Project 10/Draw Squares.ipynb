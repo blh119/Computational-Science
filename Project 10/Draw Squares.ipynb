{
 "cells": [
  {
   "cell_type": "markdown",
   "metadata": {
    "collapsed": false
   },
   "source": [
    "# Draw Squares"
   ]
  },
  {
   "cell_type": "markdown",
   "metadata": {
    "collapsed": false
   },
   "source": [
    "The task of this problem was draw squares of various sizes using python. For this I used the matplotlib library and list comprehension. Colors can be made on the rgb color scale using three numbers as part of a list. All colors can be represented this way. For canvas we have an array of the list [255,255,255] 100 times across and 100 down giving us an array 100 X 100 of [255,225,255]<br/>\n",
    "\n",
    "For the function square, we take in the x and y value for which we are to start drawing. We start from there and we use four for loop to draw each side of the square. We have to go from the starting y position and go the amount for the side in the x direction. We do the same thing to draw our y. We set the x value constant during the loop and loop through side for the coloring of y giving it the apporiate number. To get the other we need to set the x constant at x plus the side to get that y and then the reverse to draw x.<br/>\n",
    "\n",
    "Another thing we need to make sure is that our square is not too big for the canvas. We this by making sure that x + side < 100 and y + side < 100. We last use plt.image show to get the square. "
   ]
  },
  {
   "cell_type": "code",
   "execution_count": 4,
   "metadata": {
    "collapsed": false
   },
   "outputs": [
   ],
   "source": [
    "import numpy as np\n",
    "import matplotlib.pyplot as plt"
   ]
  },
  {
   "cell_type": "code",
   "execution_count": 5,
   "metadata": {
    "collapsed": false
   },
   "outputs": [
   ],
   "source": [
    "canvas = [[[255,255,255] for j in range(100)] for i in range(100)]"
   ]
  },
  {
   "cell_type": "code",
   "execution_count": 6,
   "metadata": {
    "collapsed": false
   },
   "outputs": [
   ],
   "source": [
    "def square(x,y,side,color):\n",
    "    num = [0,0,0]\n",
    "    if x + side > 100 or y + side > 100:\n",
    "        return 0\n",
    "    if color == \"silver\":\n",
    "        num = [192,192,192]\n",
    "    if color == 'gold':\n",
    "        num = [207,181,59]\n",
    "    if color == \"green\":\n",
    "        num = [34,139,34]\n",
    "    if color == \"blue\":\n",
    "        num = [0,119,190]\n",
    "    if color == \"red\":\n",
    "        num = [255,36,0]\n",
    "    for i in range(x,x + side):\n",
    "        canvas[y][i] = num\n",
    "    for i in range(y,y + side):\n",
    "        canvas[i][x] = num\n",
    "    for i in range(x,x + side):\n",
    "        canvas[y + side][i] = num\n",
    "    for i in range(y,y + side + 1):\n",
    "        canvas[i][x + side] = num"
   ]
  },
  {
   "cell_type": "code",
   "execution_count": 7,
   "metadata": {
    "collapsed": false
   },
   "outputs": [
   ],
   "source": [
    "square(60,60,30,\"blue\")\n",
    "square(15,70,10, \"red\")\n",
    "square(5,15,80,\"silver\")\n",
    "square(30,45,40,\"gold\")\n",
    "square(2,2,50,\"green\")"
   ]
  },
  {
   "cell_type": "code",
   "execution_count": 8,
   "metadata": {
    "collapsed": false
   },
   "outputs": [
    {
     "data": {
      "text/plain": [
       "<matplotlib.image.AxesImage at 0x7fa983d3da90>"
      ]
     },
     "execution_count": 8,
     "metadata": {
     },
     "output_type": "execute_result"
    },
    {
     "data": {
      "image/png": "[encoded data removed]",
      "text/plain": "<Figure size 432x288 with 1 Axes>"
     },
     "metadata": {
      "image/png": {
       "height": 251,
       "width": 369
      }
     }
    }
   ],
   "source": [
    "plt.imshow(canvas, aspect='auto')"
   ]
  },
  {
   "cell_type": "code",
   "execution_count": 0,
   "metadata": {
    "collapsed": false
   },
   "outputs": [
   ],
   "source": [
   ]
  }
 ],
 "metadata": {
  "kernelspec": {
   "display_name": "Python 3 (system-wide)",
   "language": "python",
   "metadata": {
    "cocalc": {
     "description": "Python 3 programming language",
     "priority": 100,
     "url": "https://www.python.org/"
    }
   },
   "name": "python3"
  },
  "language_info": {
   "codemirror_mode": {
    "name": "ipython",
    "version": 3
   },
   "file_extension": ".py",
   "mimetype": "text/x-python",
   "name": "python",
   "nbconvert_exporter": "python",
   "pygments_lexer": "ipython3",
   "version": "3.6.9"
  }
 },
 "nbformat": 4,
 "nbformat_minor": 0
}