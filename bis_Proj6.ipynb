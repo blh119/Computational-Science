{
 "cells": [
  {
   "cell_type": "markdown",
   "metadata": {
    "collapsed": false
   },
   "source": [
    "In this project we used the Bisection Method in order to find the zero of a function.<br/>\n",
    "\n",
    "The Bisection Method works by taking an interval from [a, b]. For this problem lets say that it is between .01 and .99, as our interest rate will probably fall between that interval. The midpoint we will be c, the value between a and b. <br/>\n",
    "\n",
    "If this midpoint is equal to zero than we have our midpoint and we exit the program.<br/>\n",
    "\n",
    "If the product of f(a)  and f(c)the interval and get back a positive number we know that we are on the left side of our interval and we choose c to be our new a. After this, if we find our new c value is will be moved to the right. This reduces the right side of our interval and gets us closer the the zero<br/>\n",
    "\n",
    "If the product our imputs for f(a) and f(c) are negative we reduce down the left side of our interval. We keep doing this until the differences between the inputs for f(a) and f(c) is less than our tolerence for error<br/>\n",
    "\n",
    "We want to use this method to find the interest rate of a refrigerater. We want to find if it is between to save the money each month for the frige or to purchase the frige with credit:\n"
   ]
  },
  {
   "cell_type": "markdown",
   "metadata": {
    "collapsed": false
   },
   "source": [
    "Variables:<br/>\n",
    "a = amount<br/>\n",
    "p = principal<br/>\n",
    "r = rate<br/>\n",
    "m = months<br/>\n",
    "n = number of times compounded<br/>"
   ]
  },
  {
   "cell_type": "markdown",
   "metadata": {
    "collapsed": false
   },
   "source": [
    "a = 4055.62<br/>\n",
    "p = 1802.50<br/>\n",
    "r = variable<br/>\n",
    "m = 23<br/>\n",
    "n = 12<br/>"
   ]
  },
  {
   "cell_type": "markdown",
   "metadata": {
    "collapsed": false
   },
   "source": [
    "Roo of Equation:\n",
    "\n",
    "$$0 = n*((\\frac{a}{p})^{\\frac{1}{m}}- 1) - r$$"
   ]
  },
  {
   "cell_type": "code",
   "execution_count": 14,
   "metadata": {
    "collapsed": false
   },
   "outputs": [
   ],
   "source": [
    "def bisection(a,b,f,err):\n",
    "    c = (a+b)/2\n",
    "    while c-a > err:\n",
    "        if f(c) == 0:\n",
    "            return n\n",
    "        elif f(c)*f(a) > 0:\n",
    "            a = c\n",
    "        else:\n",
    "            b = c\n",
    "        c = (a+b)/2\n",
    "    return c"
   ]
  },
  {
   "cell_type": "code",
   "execution_count": 15,
   "metadata": {
    "collapsed": false
   },
   "outputs": [
   ],
   "source": [
    "def f(r):\n",
    "    return 12*((4055.62/1802.50)**(1/23) - 1) - r"
   ]
  },
  {
   "cell_type": "code",
   "execution_count": 16,
   "metadata": {
    "collapsed": false
   },
   "outputs": [
    {
     "data": {
      "text/plain": [
       "0.42064048655267494"
      ]
     },
     "execution_count": 16,
     "metadata": {
     },
     "output_type": "execute_result"
    }
   ],
   "source": [
    "f(.01)"
   ]
  },
  {
   "cell_type": "code",
   "execution_count": 17,
   "metadata": {
    "collapsed": false
   },
   "outputs": [
    {
     "data": {
      "text/plain": [
       "-0.559359513447325"
      ]
     },
     "execution_count": 17,
     "metadata": {
     },
     "output_type": "execute_result"
    }
   ],
   "source": [
    "f(.99)"
   ]
  },
  {
   "cell_type": "markdown",
   "metadata": {
    "collapsed": false
   },
   "source": [
    "The root of f is between .01 and .99. That's what we will choose for our a and b"
   ]
  },
  {
   "cell_type": "code",
   "execution_count": 18,
   "metadata": {
    "collapsed": false
   },
   "outputs": [
    {
     "data": {
      "text/plain": [
       "0.4306750488281249"
      ]
     },
     "execution_count": 18,
     "metadata": {
     },
     "output_type": "execute_result"
    }
   ],
   "source": [
    "bisection(.01,.99,f,.0001)"
   ]
  },
  {
   "cell_type": "code",
   "execution_count": 19,
   "metadata": {
    "collapsed": false
   },
   "outputs": [
    {
     "data": {
      "text/plain": [
       "4055.879362507174"
      ]
     },
     "execution_count": 19,
     "metadata": {
     },
     "output_type": "execute_result"
    }
   ],
   "source": [
    "#Test that our formula is correct\n",
    "1802.50*(1 + 0.4306750488281249/12)**(23)\n",
    "#We get the correct total amount"
   ]
  },
  {
   "cell_type": "code",
   "execution_count": 20,
   "metadata": {
    "collapsed": false
   },
   "outputs": [
    {
     "data": {
      "text/plain": [
       "9.904934608198703"
      ]
     },
     "execution_count": 20,
     "metadata": {
     },
     "output_type": "execute_result"
    }
   ],
   "source": [
    "1802.50/181.98\n",
    "#It will take you ten months to save for the frige"
   ]
  },
  {
   "cell_type": "code",
   "execution_count": 21,
   "metadata": {
    "collapsed": false
   },
   "outputs": [
    {
     "data": {
      "text/plain": [
       "2253.12"
      ]
     },
     "execution_count": 21,
     "metadata": {
     },
     "output_type": "execute_result"
    }
   ],
   "source": [
    "4055.62 - 1802.50\n",
    "#You will pay about 2000 dollars more if you work with the loan"
   ]
  },
  {
   "cell_type": "markdown",
   "metadata": {
    "collapsed": false
   },
   "source": [
    "Frige Interest Rate: 43%<br/>\n",
    "\n",
    "We find that instead of paying 23 monthly payments of 181.98, it is much better to save 181.98 every month until we get the 1802.50. It will only take 10 months and you do not take the risk of missing a payment.<br/>\n",
    "\n",
    "You will also save more than 2000 dollars.<br/>\n",
    "\n",
    "Link to product: https://www.rentacenter.com/appliances/refrigerators/maytag-stainless-20-cu-ft-french-door-refrigerator--mfw2055frz/p/100021764"
   ]
  },
  {
   "cell_type": "code",
   "execution_count": 0,
   "metadata": {
    "collapsed": false
   },
   "outputs": [
   ],
   "source": [
   ]
  }
 ],
 "metadata": {
  "kernelspec": {
   "display_name": "Python 3 (system-wide)",
   "language": "python",
   "metadata": {
    "cocalc": {
     "description": "Python 3 programming language",
     "priority": 100,
     "url": "https://www.python.org/"
    }
   },
   "name": "python3"
  },
  "language_info": {
   "codemirror_mode": {
    "name": "ipython",
    "version": 3
   },
   "file_extension": ".py",
   "mimetype": "text/x-python",
   "name": "python",
   "nbconvert_exporter": "python",
   "pygments_lexer": "ipython3",
   "version": "3.6.8"
  }
 },
 "nbformat": 4,
 "nbformat_minor": 0
}