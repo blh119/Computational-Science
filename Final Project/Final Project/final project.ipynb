{
 "cells": [
  {
   "cell_type": "markdown",
   "metadata": {
    "collapsed": false
   },
   "source": [
    "# Final Project - \n",
    "\n",
    "### Brian Holliday, Dung Mai"
   ]
  },
  {
   "cell_type": "markdown",
   "metadata": {
    "collapsed": false
   },
   "source": [
    "## Introduction\n",
    "\n",
    "##### The objective of this assigment is to estimate the average number of minimum turns needed so that the distance to the origin is at least 15. The starting point is at (0, 0) on the xy-plane. The nth turn (beginning with n = 1) consists of selecting a random angle from 0 to 2π and move a distance of n in the direction by the angle chosen."
   ]
  },
  {
   "cell_type": "markdown",
   "metadata": {
    "collapsed": false
   },
   "source": [
    "## Analysis"
   ]
  },
  {
   "cell_type": "markdown",
   "metadata": {
    "collapsed": false
   },
   "source": [
    "##### First, we define the function as walking(). Then, we start at (0,0) on the x-y plane by assigning x = 0 , y = 0 ,  and n = 0 . After that, we use while loop to execute the x value, the y value, the angle, and the distance when:<br/>\n",
    "\n",
    "$sqrt(x^2 + y^2)<= d$.<br/>\n",
    "\n",
    "##### Lastly, to find the mimimum n turn, we take the sum of of distance 15."
   ]
  },
  {
   "cell_type": "code",
   "execution_count": 4,
   "metadata": {
    "collapsed": false
   },
   "outputs": [
   ],
   "source": [
    "import numpy as np\n",
    "import matplotlib.pyplot as plt\n",
    "import math\n",
    "from math import pi"
   ]
  },
  {
   "cell_type": "code",
   "execution_count": 7,
   "metadata": {
    "collapsed": false
   },
   "outputs": [
   ],
   "source": [
    "def walking(d):\n",
    "    D = []\n",
    "    A = []\n",
    "    X = []\n",
    "    Y = []\n",
    "    x = 0\n",
    "    y = 0\n",
    "    n = 0\n",
    "    while math.sqrt(x**2 + y**2)<= d:\n",
    "        n = n + 1\n",
    "        angle = np.random.randint(0,360)\n",
    "        x = x + n*math.cos(angle*(pi/180))\n",
    "        y = y + n*math.sin(angle*(pi/180))\n",
    "        D.append(math.sqrt(x**2 + y**2))\n",
    "        X.append(x)\n",
    "        Y.append(y)\n",
    "        A.append(angle)\n",
    "        if math.sqrt(x**2 + y**2) >= d:\n",
    "            return n, D, X, Y, A"
   ]
  },
  {
   "cell_type": "code",
   "execution_count": 8,
   "metadata": {
    "collapsed": false
   },
   "outputs": [
   ],
   "source": [
    "n, D, X, Y, A = walking(15)"
   ]
  },
  {
   "cell_type": "code",
   "execution_count": 9,
   "metadata": {
    "collapsed": false
   },
   "outputs": [
    {
     "data": {
      "text/plain": [
       "<matplotlib.lines.Line2D at 0x7f1f76566fd0>"
      ]
     },
     "execution_count": 9,
     "metadata": {
     },
     "output_type": "execute_result"
    },
    {
     "data": {
      "image/png": "[encoded data removed]",
      "text/plain": [
       "<Figure size 432x288 with 1 Axes>"
      ]
     },
     "execution_count": 9,
     "metadata": {
      "image/png": {
       "height": 277,
       "width": 392
      }
     },
     "output_type": "execute_result"
    }
   ],
   "source": [
    "plt.scatter(np.arange(1,len(D) + 1),D)\n",
    "plt.xlabel(\"Number of Steps, n\")\n",
    "plt.ylabel(\"Distance, D\")\n",
    "plt.title(\"Number of Steps vs. Distance\")\n",
    "plt.axhline(y = 15, color = \"black\", linestyle = \"--\")"
   ]
  },
  {
   "cell_type": "code",
   "execution_count": 2,
   "metadata": {
    "collapsed": false
   },
   "outputs": [
   ],
   "source": [
    "def walking_MC(d):\n",
    "    x = 0\n",
    "    y = 0\n",
    "    n = 0\n",
    "    while math.sqrt(x**2 + y**2)<= d:\n",
    "        n = n + 1\n",
    "        angle = np.random.randint(0,360)\n",
    "        x = x + n*math.cos(angle*(pi/180))\n",
    "        y = y + n*math.sin(angle*(pi/180))\n",
    "        if math.sqrt(x**2 + y**2) >= d:\n",
    "            return n"
   ]
  },
  {
   "cell_type": "code",
   "execution_count": 40,
   "metadata": {
    "collapsed": false
   },
   "outputs": [
    {
     "data": {
      "text/plain": [
       "9.1821"
      ]
     },
     "execution_count": 40,
     "metadata": {
     },
     "output_type": "execute_result"
    }
   ],
   "source": [
    "sum([walking_MC(15) for i in range(10000)])/10000"
   ]
  },
  {
   "cell_type": "markdown",
   "metadata": {
    "collapsed": false
   },
   "source": [
    "## Conclusion\n",
    "##### Our result shows that n = 9.1821 is the average number of minimum turns needed so that the distance to the origin is at least 15."
   ]
  }
 ],
 "metadata": {
  "kernelspec": {
   "display_name": "Python 3 (system-wide)",
   "language": "python",
   "metadata": {
    "cocalc": {
     "description": "Python 3 programming language",
     "priority": 100,
     "url": "https://www.python.org/"
    }
   },
   "name": "python3"
  },
  "language_info": {
   "codemirror_mode": {
    "name": "ipython",
    "version": 3
   },
   "file_extension": ".py",
   "mimetype": "text/x-python",
   "name": "python",
   "nbconvert_exporter": "python",
   "pygments_lexer": "ipython3",
   "version": "3.6.9"
  }
 },
 "nbformat": 4,
 "nbformat_minor": 0
}